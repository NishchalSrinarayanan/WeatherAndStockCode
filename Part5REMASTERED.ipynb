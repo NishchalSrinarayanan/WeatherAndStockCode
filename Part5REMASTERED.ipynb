{
  "nbformat": 4,
  "nbformat_minor": 0,
  "metadata": {
    "colab": {
      "provenance": [],
      "authorship_tag": "ABX9TyNDZs+C2pk80m9NW6gJ96h0",
      "include_colab_link": true
    },
    "kernelspec": {
      "name": "python3",
      "display_name": "Python 3"
    },
    "language_info": {
      "name": "python"
    }
  },
  "cells": [
    {
      "cell_type": "markdown",
      "metadata": {
        "id": "view-in-github",
        "colab_type": "text"
      },
      "source": [
        "<a href=\"https://colab.research.google.com/github/NishchalSrinarayanan/WeatherAndStockCode/blob/main/Part5REMASTERED.ipynb\" target=\"_parent\"><img src=\"https://colab.research.google.com/assets/colab-badge.svg\" alt=\"Open In Colab\"/></a>"
      ]
    },
    {
      "cell_type": "markdown",
      "source": [
        "Hi Sualeh Uncle!\n",
        "\n",
        "I have made the tweaks you provided so let me explain some of the new stuff for the other kids. What I did to add the thousand marks was the same format for the .2f, for example, if I wanted to display pi, But only to 2 spaces, I would store pi into a variable, and print that variable like this: {number:.2f}.\n",
        "Now, if I wanted to display a number, ex: 1300202, but wanted thousand marks, I would do the same thing, but add a comma like this: {number:,}. Now, to show the total portfolio profit, I at the start, set the portfolio profit to zero. After each tuple, I add the profit of the stock to the total profit, and when all tuples are done looping, the total portfolio profit is printed.\n",
        "\n",
        "Thanks,\n",
        "Nishchal"
      ],
      "metadata": {
        "id": "KpnFXq9gJFNm"
      }
    },
    {
      "cell_type": "code",
      "execution_count": 1,
      "metadata": {
        "colab": {
          "base_uri": "https://localhost:8080/"
        },
        "id": "j7aI3CepoCy8",
        "outputId": "c85eff32-ec76-47e9-e460-a3c8f3a80919"
      },
      "outputs": [
        {
          "output_type": "stream",
          "name": "stdout",
          "text": [
            "The current price of Apple Inc (AAPL) is $222.08.\n",
            "The closing price of Apple Inc (AAPL) on the previous trading day was $218.80.\n",
            "\n",
            "The price has changed by $3.28.\n",
            "All of your shares of Apple Inc are worth $22,208.00.\n",
            "You have profited $328.00 off of Apple Inc from yesterday.\n",
            "\n",
            "\n",
            "The current price of NVIDIA Corporation (NVDA) is $117.02.\n",
            "The closing price of NVIDIA Corporation (NVDA) on the previous trading day was $103.73.\n",
            "\n",
            "The price has changed by $13.29.\n",
            "All of your shares of NVIDIA Corporation are worth $1,170.20.\n",
            "You have profited $132.90 off of NVIDIA Corporation from yesterday.\n",
            "\n",
            "\n",
            "The current price of AT&T (T) is $19.25.\n",
            "The closing price of AT&T (T) on the previous trading day was $18.98.\n",
            "\n",
            "The price has changed by $0.27.\n",
            "All of your shares of AT&T are worth $288.75.\n",
            "You have profited $4.05 off of AT&T from yesterday.\n",
            "\n",
            "\n",
            "The current price of Dow Jones Industrial Average (DIA) is $408.49.\n",
            "The closing price of Dow Jones Industrial Average (DIA) on the previous trading day was $407.41.\n",
            "\n",
            "The price has changed by $1.08.\n",
            "All of your shares of Dow Jones Industrial Average are worth $81,698.00.\n",
            "You have profited $216.00 off of Dow Jones Industrial Average from yesterday.\n",
            "\n",
            "\n",
            "The current price of Microsoft Corporation (MSFT) is $418.35.\n",
            "The closing price of Microsoft Corporation (MSFT) on the previous trading day was $422.92.\n",
            "\n",
            "The price has changed by $-4.57.\n",
            "All of your shares of Microsoft Corporation are worth $209,175.00.\n",
            "You have made a loss of $2,285.00 off of Microsoft Corporation from yesterday.\n",
            "\n",
            "\n",
            "Your total loss across all your stocks is $1,604.05.\n",
            "\n"
          ]
        }
      ],
      "source": [
        "import requests\n",
        "\n",
        "stocks = [\n",
        "    (\"AAPL\", \"Apple Inc\", 100),\n",
        "    (\"NVDA\", \"NVIDIA Corporation\", 10),\n",
        "    (\"T\", \"AT&T\", 15),\n",
        "    (\"DIA\", \"Dow Jones Industrial Average\", 200),\n",
        "    (\"MSFT\", \"Microsoft Corporation\", 500)\n",
        "]\n",
        "\n",
        "api_key = \"yourapikey\"\n",
        "\n",
        "def get_stock_prices(symbol):\n",
        "    url = f\"https://www.alphavantage.co/query?function=GLOBAL_QUOTE&symbol={symbol}&apikey={api_key}\"\n",
        "    response = requests.get(url)\n",
        "    data = response.json()\n",
        "    current_price = float(data[\"Global Quote\"][\"05. price\"])\n",
        "    previous_day_price = float(data[\"Global Quote\"][\"08. previous close\"])\n",
        "    return current_price, previous_day_price\n",
        "\n",
        "total_portfolio_profit = 0\n",
        "\n",
        "for stock in stocks:\n",
        "    symbol, name, stock_holding = stock\n",
        "    current_price, previous_day_price = get_stock_prices(symbol)\n",
        "    change = current_price - previous_day_price\n",
        "    total_money = stock_holding * current_price\n",
        "    profit_from_yesterday = stock_holding * change\n",
        "    total_portfolio_profit += profit_from_yesterday\n",
        "\n",
        "    print(f\"The current price of {name} ({symbol}) is ${current_price:,.2f}.\")\n",
        "    print(f\"The closing price of {name} ({symbol}) on the previous trading day was ${previous_day_price:,.2f}.\")\n",
        "    print(f\"\")\n",
        "    print(f\"The price has changed by ${change:,.2f}.\")\n",
        "    print(f\"All of your shares of {name} are worth ${total_money:,.2f}.\")\n",
        "    if profit_from_yesterday >= 0:\n",
        "        print(f\"You have profited ${profit_from_yesterday:,.2f} off of {name} from yesterday.\")\n",
        "    else:\n",
        "        print(f\"You have made a loss of ${-profit_from_yesterday:,.2f} off of {name} from yesterday.\")\n",
        "    print(f\"\")\n",
        "    print(f\"\")\n",
        "\n",
        "if total_portfolio_profit >= 0:\n",
        "    print(f\"Your total profit across all your stocks is ${total_portfolio_profit:,.2f}.\")\n",
        "    print(f\"\")\n",
        "else:\n",
        "    print(f\"Your total loss across all your stocks is ${-total_portfolio_profit:,.2f}.\")\n",
        "    print(f\"\")"
      ]
    }
  ]
}