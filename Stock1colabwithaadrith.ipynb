{
  "nbformat": 4,
  "nbformat_minor": 0,
  "metadata": {
    "colab": {
      "provenance": [],
      "authorship_tag": "ABX9TyMfznDP35sU43/ng/oGtKUZ",
      "include_colab_link": true
    },
    "kernelspec": {
      "name": "python3",
      "display_name": "Python 3"
    },
    "language_info": {
      "name": "python"
    }
  },
  "cells": [
    {
      "cell_type": "markdown",
      "metadata": {
        "id": "view-in-github",
        "colab_type": "text"
      },
      "source": [
        "<a href=\"https://colab.research.google.com/github/NishchalSrinarayanan/WeatherAndStockCode/blob/main/Stock1colabwithaadrith.ipynb\" target=\"_parent\"><img src=\"https://colab.research.google.com/assets/colab-badge.svg\" alt=\"Open In Colab\"/></a>"
      ]
    },
    {
      "cell_type": "code",
      "execution_count": null,
      "metadata": {
        "id": "DOMLYMSqKV0Z"
      },
      "outputs": [],
      "source": [
        "import requests\n",
        "\n",
        "\n",
        "stocks = [\n",
        "    (\"AAPL\", \"Apple Inc\"),\n",
        "    (\"NVDA\", \"NVIDIA Corporation\"),\n",
        "    (\"T\", \"AT&T\"),\n",
        "    (\"DIA\", \"SPDR Dow Jones Industrial Average ETF Trust\"),\n",
        "    (\"MSFT\", \"Microsoft Corporation\")\n",
        "]\n",
        "\n",
        "\n",
        "api_key = \"D8FMDS8ZEUOYTK5A\"\n",
        "\n",
        "\n",
        "def get_stock_price(symbol):\n",
        "\n",
        "    url = f\"https://www.alphavantage.co/query?function=GLOBAL_QUOTE&symbol={symbol}&apikey={api_key}\"\n",
        "\n",
        "\n",
        "    response = requests.get(url)\n",
        "\n",
        "    data = response.json()\n",
        "\n",
        "    if \"Global Quote\" in data and \"05. price\" in data[\"Global Quote\"]:\n",
        "\n",
        "        return data[\"Global Quote\"][\"05. price\"]\n",
        "    else:\n",
        "\n",
        "        return None\n",
        "\n",
        "\n",
        "for stock in stocks:\n",
        "\n",
        "    symbol, name = stock\n",
        "\n",
        "\n",
        "    price = get_stock_price(symbol)\n",
        "\n",
        "\n",
        "    if price:\n",
        "\n",
        "        print(f\"The current price of {name} ({symbol}) is ${price}\")\n",
        "    else:\n",
        "\n",
        "        print(f\"Failed to retrieve the price for {name} ({symbol})\")"
      ]
    }
  ]
}