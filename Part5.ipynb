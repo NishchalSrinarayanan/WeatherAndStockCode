{
  "nbformat": 4,
  "nbformat_minor": 0,
  "metadata": {
    "colab": {
      "provenance": [],
      "authorship_tag": "ABX9TyPoy8DZXjowqRlEXN8372L1",
      "include_colab_link": true
    },
    "kernelspec": {
      "name": "python3",
      "display_name": "Python 3"
    },
    "language_info": {
      "name": "python"
    }
  },
  "cells": [
    {
      "cell_type": "markdown",
      "metadata": {
        "id": "view-in-github",
        "colab_type": "text"
      },
      "source": [
        "<a href=\"https://colab.research.google.com/github/NishchalSrinarayanan/WeatherAndStockCode/blob/main/Part5.ipynb\" target=\"_parent\"><img src=\"https://colab.research.google.com/assets/colab-badge.svg\" alt=\"Open In Colab\"/></a>"
      ]
    },
    {
      "cell_type": "code",
      "execution_count": 16,
      "metadata": {
        "colab": {
          "base_uri": "https://localhost:8080/"
        },
        "id": "j7aI3CepoCy8",
        "outputId": "43b757d4-fbc7-4e7d-8212-9a759dc91955"
      },
      "outputs": [
        {
          "output_type": "stream",
          "name": "stdout",
          "text": [
            "The current price of Apple Inc (AAPL) is $218.80.\n",
            "The closing price of Apple Inc (AAPL) on the previous trading day was $218.24.\n",
            "The price has changed by $0.56\n",
            "\n",
            "All of your shares of Apple Inc are worth $21880.00.\n",
            "You have profited $56.00 off of Apple Inc from yesterday.\n",
            "\n",
            "\n",
            "The current price of NVIDIA Corporation (NVDA) is $103.73.\n",
            "The closing price of NVIDIA Corporation (NVDA) on the previous trading day was $111.59.\n",
            "The price has changed by $-7.86\n",
            "\n",
            "All of your shares of NVIDIA Corporation are worth $1037.30.\n",
            "You have profited $-78.60 off of NVIDIA Corporation from yesterday.\n",
            "\n",
            "\n",
            "The current price of AT&T (T) is $18.98.\n",
            "The closing price of AT&T (T) on the previous trading day was $18.90.\n",
            "The price has changed by $0.08\n",
            "\n",
            "All of your shares of AT&T are worth $284.70.\n",
            "You have profited $1.20 off of AT&T from yesterday.\n",
            "\n",
            "\n",
            "The current price of Dow Jones Industrial Average (DIA) is $407.41.\n",
            "The closing price of Dow Jones Industrial Average (DIA) on the previous trading day was $405.51.\n",
            "The price has changed by $1.90\n",
            "\n",
            "All of your shares of Dow Jones Industrial Average are worth $81482.00.\n",
            "You have profited $380.00 off of Dow Jones Industrial Average from yesterday.\n",
            "\n",
            "\n",
            "The current price of Microsoft Corporation (MSFT) is $422.92.\n",
            "The closing price of Microsoft Corporation (MSFT) on the previous trading day was $426.73.\n",
            "The price has changed by $-3.81\n",
            "\n",
            "All of your shares of Microsoft Corporation are worth $211460.00.\n",
            "You have profited $-1905.00 off of Microsoft Corporation from yesterday.\n",
            "\n",
            "\n"
          ]
        }
      ],
      "source": [
        "import requests\n",
        "\n",
        "stocks = [\n",
        "    (\"AAPL\", \"Apple Inc\", 100),\n",
        "    (\"NVDA\", \"NVIDIA Corporation\", 10),\n",
        "    (\"T\", \"AT&T\", 15),\n",
        "    (\"DIA\", \"Dow Jones Industrial Average\", 200),\n",
        "    (\"MSFT\", \"Microsoft Corporation\", 500)\n",
        "]\n",
        "\n",
        "api_key = \"yourapikeyhere\"\n",
        "\n",
        "def get_current_price(symbol):\n",
        "    url = f\"https://www.alphavantage.co/query?function=GLOBAL_QUOTE&symbol={symbol}&apikey={api_key}\"\n",
        "    response = requests.get(url)\n",
        "    data = response.json()\n",
        "    return data[\"Global Quote\"][\"05. price\"]\n",
        "\n",
        "def get_previous_day_price(symbol):\n",
        "    url = f\"https://www.alphavantage.co/query?function=GLOBAL_QUOTE&symbol={symbol}&apikey={api_key}\"\n",
        "    response = requests.get(url)\n",
        "    data = response.json()\n",
        "    return data[\"Global Quote\"][\"08. previous close\"]\n",
        "\n",
        "for stock in stocks:\n",
        "    symbol, name, stock_holding = stock\n",
        "    current_price = float(get_current_price(symbol))\n",
        "    previous_day_price = float(get_previous_day_price(symbol))\n",
        "    change = current_price - previous_day_price\n",
        "    total_money = stock_holding * current_price\n",
        "    profit_from_yesterday = stock_holding * change\n",
        "\n",
        "    print(f\"The current price of {name} ({symbol}) is ${current_price:.2f}.\")\n",
        "    print(f\"The closing price of {name} ({symbol}) on the previous trading day was ${previous_day_price:.2f}.\")\n",
        "    print(f\"The price has changed by ${change:.2f}\")\n",
        "    print(f\"\")\n",
        "    print(f\"All of your shares of {name} are worth ${total_money:.2f}.\")\n",
        "    print(f\"You have profited ${profit_from_yesterday:.2f} off of {name} from yesterday.\")\n",
        "    print(f\"\")\n",
        "    print(f\"\")"
      ]
    }
  ]
}